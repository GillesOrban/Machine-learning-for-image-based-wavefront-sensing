{
 "cells": [
  {
   "cell_type": "code",
   "execution_count": null,
   "metadata": {},
   "outputs": [],
   "source": [
    "import sys\n",
    "import aotools\n",
    "import numpy as np\n",
    "import torch\n",
    "import torch.nn as nn\n",
    "import torch.nn.functional as F\n",
    "import torch.optim as optim\n",
    "import torchvision.models as models\n",
    "from torchvision import transforms\n",
    "from collections import OrderedDict\n",
    "\n",
    "sys.path.insert(0, '../..')\n",
    "from model_custom import Net\n",
    "from load import load\n",
    "from train_v2 import train\n",
    "from utils import *\n",
    "from dataset2 import *\n",
    "import monitoring"
   ]
  },
  {
   "cell_type": "code",
   "execution_count": null,
   "metadata": {},
   "outputs": [],
   "source": [
    "model = Net()\n",
    "\n",
    "device = torch.device(\"cuda:0\" if torch.cuda.is_available() else \"cpu\")\n",
    "if torch.cuda.device_count() > 1:\n",
    "    model = nn.DataParallel(model)\n",
    "    model.to(device)\n",
    "    \n",
    "# Load weights\n",
    "model_dir = 'custom0_lr1e-05/model.pth'\n",
    "state_dict = torch.load(model_dir)\n",
    "new_state_dict = OrderedDict()\n",
    "for k, v in state_dict.items():\n",
    "    name = k[7:] # remove module.\n",
    "    new_state_dict[name] = v\n",
    "model.load_state_dict(state_dict)\n",
    "    \n",
    "# Test\n",
    "x = torch.randn(32, 2, 128, 128)\n",
    "output, _ = model(x)\n",
    "print(output.shape)\n",
    "print(_.shape)"
   ]
  },
  {
   "cell_type": "code",
   "execution_count": null,
   "metadata": {
    "scrolled": true
   },
   "outputs": [],
   "source": [
    "# Data set\n",
    "data_dir = '../../dataset/'\n",
    "dataset_size = 100000\n",
    "dataset = psf_dataset(\n",
    "                      root_dir = data_dir,\n",
    "                      size = dataset_size,\n",
    "                      transform = transforms.Compose([Normalize(data_dir),ToTensor()])\n",
    "                     )\n",
    "\n",
    "#monitor = monitoring.monitoringGPU(120)\n",
    "    \n",
    "criterion = nn.MSELoss()\n",
    "optimizer = optim.Adam(model.parameters(), lr=1e-5)\n",
    "\n",
    "train(\n",
    "              model, \n",
    "              dataset, \n",
    "              optimizer, \n",
    "              criterion,\n",
    "              split = [0.9, 0.1],\n",
    "              batch_size = 256,\n",
    "              n_epochs = 250,\n",
    "              random_seed = 42,\n",
    "              model_dir = './',\n",
    "              visdom = True,\n",
    ")\n",
    "\n",
    "\n",
    "#monitor.stop()"
   ]
  },
  {
   "cell_type": "code",
   "execution_count": null,
   "metadata": {},
   "outputs": [],
   "source": [
    "metrics = get_metrics(model_dir='./')\n",
    "plot_learningcurve(metrics, name='lrcurve.pdf', ylim=[0,10000])\n",
    "plot_learningcurve(metrics, zernike=True, name='lrcurve_zernike.pdf', ylim=[0,1000])"
   ]
  },
  {
   "cell_type": "code",
   "execution_count": null,
   "metadata": {},
   "outputs": [],
   "source": []
  }
 ],
 "metadata": {
  "kernelspec": {
   "display_name": "Python 3",
   "language": "python",
   "name": "python3"
  },
  "language_info": {
   "codemirror_mode": {
    "name": "ipython",
    "version": 3
   },
   "file_extension": ".py",
   "mimetype": "text/x-python",
   "name": "python",
   "nbconvert_exporter": "python",
   "pygments_lexer": "ipython3",
   "version": "3.7.0"
  }
 },
 "nbformat": 4,
 "nbformat_minor": 2
}
